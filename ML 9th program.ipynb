{
 "cells": [
  {
   "cell_type": "code",
   "execution_count": 10,
   "id": "8c0831c1",
   "metadata": {},
   "outputs": [],
   "source": [
    "from sklearn.model_selection import train_test_split \n",
    "from sklearn.neighbors import KNeighborsClassifier\n",
    "from sklearn import datasets\n"
   ]
  },
  {
   "cell_type": "code",
   "execution_count": 11,
   "id": "780d466a",
   "metadata": {},
   "outputs": [
    {
     "name": "stdout",
     "output_type": "stream",
     "text": [
      "Iris Data set loaded...\n"
     ]
    }
   ],
   "source": [
    "# Load dataset\n",
    "iris=datasets.load_iris()\n",
    "print(\"Iris Data set loaded...\")\n"
   ]
  },
  {
   "cell_type": "code",
   "execution_count": 12,
   "id": "6a994a33",
   "metadata": {},
   "outputs": [
    {
     "name": "stdout",
     "output_type": "stream",
     "text": [
      "Dataset is split into training and testing...\n",
      "size of trainng data and its label (135, 4) (135,)\n",
      "Size of trainng data and its label (15, 4) (15,)\n"
     ]
    }
   ],
   "source": [
    "# Split the data into train and test samples\n",
    "x_train, x_test, y_train, y_test = train_test_split(iris.data, iris.target, test_size=0.1) \n",
    "print(\"Dataset is split into training and testing...\")\n",
    "print(\"size of trainng data and its label\",x_train. shape,y_train.shape)\n",
    "print(\"Size of trainng data and its label\",x_test.shape, y_test.shape)\n"
   ]
  },
  {
   "cell_type": "code",
   "execution_count": 13,
   "id": "2511905d",
   "metadata": {},
   "outputs": [
    {
     "name": "stdout",
     "output_type": "stream",
     "text": [
      "Label 0 - setosa\n",
      "Label 1 - versicolor\n",
      "Label 2 - virginica\n"
     ]
    }
   ],
   "source": [
    "#Prints Label no. and their names\n",
    "for i in range(len(iris.target_names)):\n",
    "    print(\"Label\", i, \"-\",str(iris.target_names[i]))\n"
   ]
  },
  {
   "cell_type": "code",
   "execution_count": 14,
   "id": "223f731e",
   "metadata": {},
   "outputs": [],
   "source": [
    "# Create object of KNN classifier\n",
    "classifier = KNeighborsClassifier(n_neighbors=1)\n"
   ]
  },
  {
   "cell_type": "code",
   "execution_count": 15,
   "id": "16633d74",
   "metadata": {},
   "outputs": [],
   "source": [
    "#Perform Training\n",
    "classifier.fit(x_train, y_train) # Perform testing 23 y_pred=classifier.predict(x_test)\n",
    "y_pred=classifier.predict(x_test)"
   ]
  },
  {
   "cell_type": "code",
   "execution_count": 16,
   "id": "9b2401a1",
   "metadata": {},
   "outputs": [
    {
     "name": "stdout",
     "output_type": "stream",
     "text": [
      "Results of Classification using K-nn with K=1\n",
      " Sample: [5.8 2.7 3.9 1.2] Actual-label: 1 Predicted-label: 1\n",
      " Sample: [6.4 2.8 5.6 2.1] Actual-label: 2 Predicted-label: 2\n",
      " Sample: [6.3 2.5 5.  1.9] Actual-label: 2 Predicted-label: 2\n",
      " Sample: [4.9 3.  1.4 0.2] Actual-label: 0 Predicted-label: 0\n",
      " Sample: [6.7 3.3 5.7 2.5] Actual-label: 2 Predicted-label: 2\n",
      " Sample: [6.1 2.6 5.6 1.4] Actual-label: 2 Predicted-label: 2\n",
      " Sample: [7.7 3.  6.1 2.3] Actual-label: 2 Predicted-label: 2\n",
      " Sample: [7.9 3.8 6.4 2. ] Actual-label: 2 Predicted-label: 2\n",
      " Sample: [5.7 2.5 5.  2. ] Actual-label: 2 Predicted-label: 2\n",
      " Sample: [6.4 2.7 5.3 1.9] Actual-label: 2 Predicted-label: 2\n",
      " Sample: [4.8 3.1 1.6 0.2] Actual-label: 0 Predicted-label: 0\n",
      " Sample: [6.7 3.1 5.6 2.4] Actual-label: 2 Predicted-label: 2\n",
      " Sample: [5.5 2.5 4.  1.3] Actual-label: 1 Predicted-label: 1\n",
      " Sample: [6.  2.2 5.  1.5] Actual-label: 2 Predicted-label: 1\n",
      " Sample: [6.8 3.  5.5 2.1] Actual-label: 2 Predicted-label: 2\n",
      "Classification Accuracy 0.9333333333333333\n",
      "Confusion Matrix\n",
      "[[ 2  0  0]\n",
      " [ 0  2  0]\n",
      " [ 0  1 10]]\n",
      "Accuracy Metrics\n",
      "              precision    recall  f1-score   support\n",
      "\n",
      "           0       1.00      1.00      1.00         2\n",
      "           1       0.67      1.00      0.80         2\n",
      "           2       1.00      0.91      0.95        11\n",
      "\n",
      "    accuracy                           0.93        15\n",
      "   macro avg       0.89      0.97      0.92        15\n",
      "weighted avg       0.96      0.93      0.94        15\n",
      "\n"
     ]
    }
   ],
   "source": [
    "# Display the results\n",
    "print(\"Results of Classification using K-nn with K=1\")\n",
    "for r in range(0,len(x_test)):\n",
    "    print(\" Sample:\", str(x_test[r]), \"Actual-label:\", str(y_test[r]), \"Predicted-label:\", str(y_pred[r]))\n",
    "print(\"Classification Accuracy\", classifier.score (x_test,y_test));\n",
    "\n",
    "from sklearn.metrics import classification_report, confusion_matrix\n",
    "print('Confusion Matrix')\n",
    "print(confusion_matrix(y_test,y_pred))\n",
    "print('Accuracy Metrics')\n",
    "print(classification_report(y_test,y_pred))\n"
   ]
  }
 ],
 "metadata": {
  "kernelspec": {
   "display_name": "Python 3 (ipykernel)",
   "language": "python",
   "name": "python3"
  },
  "language_info": {
   "codemirror_mode": {
    "name": "ipython",
    "version": 3
   },
   "file_extension": ".py",
   "mimetype": "text/x-python",
   "name": "python",
   "nbconvert_exporter": "python",
   "pygments_lexer": "ipython3",
   "version": "3.9.12"
  }
 },
 "nbformat": 4,
 "nbformat_minor": 5
}
