{
 "cells": [
  {
   "cell_type": "code",
   "execution_count": 1,
   "id": "5f85e08d",
   "metadata": {},
   "outputs": [
    {
     "data": {
      "text/html": [
       "<div>\n",
       "<style scoped>\n",
       "    .dataframe tbody tr th:only-of-type {\n",
       "        vertical-align: middle;\n",
       "    }\n",
       "\n",
       "    .dataframe tbody tr th {\n",
       "        vertical-align: top;\n",
       "    }\n",
       "\n",
       "    .dataframe thead th {\n",
       "        text-align: right;\n",
       "    }\n",
       "</style>\n",
       "<table border=\"1\" class=\"dataframe\">\n",
       "  <thead>\n",
       "    <tr style=\"text-align: right;\">\n",
       "      <th></th>\n",
       "      <th>sky</th>\n",
       "      <th>airtemp</th>\n",
       "      <th>humidity</th>\n",
       "      <th>wind</th>\n",
       "      <th>water</th>\n",
       "      <th>forecast</th>\n",
       "      <th>enjoy sport</th>\n",
       "    </tr>\n",
       "  </thead>\n",
       "  <tbody>\n",
       "    <tr>\n",
       "      <th>0</th>\n",
       "      <td>sunny</td>\n",
       "      <td>warm</td>\n",
       "      <td>normal</td>\n",
       "      <td>strong</td>\n",
       "      <td>warm</td>\n",
       "      <td>same</td>\n",
       "      <td>yes</td>\n",
       "    </tr>\n",
       "    <tr>\n",
       "      <th>1</th>\n",
       "      <td>sunny</td>\n",
       "      <td>warm</td>\n",
       "      <td>high</td>\n",
       "      <td>strong</td>\n",
       "      <td>warm</td>\n",
       "      <td>same</td>\n",
       "      <td>yes</td>\n",
       "    </tr>\n",
       "    <tr>\n",
       "      <th>2</th>\n",
       "      <td>rainy</td>\n",
       "      <td>cold</td>\n",
       "      <td>high</td>\n",
       "      <td>strong</td>\n",
       "      <td>warm</td>\n",
       "      <td>change</td>\n",
       "      <td>no</td>\n",
       "    </tr>\n",
       "    <tr>\n",
       "      <th>3</th>\n",
       "      <td>sunny</td>\n",
       "      <td>warm</td>\n",
       "      <td>high</td>\n",
       "      <td>strong</td>\n",
       "      <td>cold</td>\n",
       "      <td>change</td>\n",
       "      <td>yes</td>\n",
       "    </tr>\n",
       "  </tbody>\n",
       "</table>\n",
       "</div>"
      ],
      "text/plain": [
       "     sky airtemp humidity    wind water forecast enjoy sport\n",
       "0  sunny    warm   normal  strong  warm     same         yes\n",
       "1  sunny    warm     high  strong  warm     same         yes\n",
       "2  rainy    cold     high  strong  warm   change          no\n",
       "3  sunny    warm     high  strong  cold   change         yes"
      ]
     },
     "execution_count": 1,
     "metadata": {},
     "output_type": "execute_result"
    }
   ],
   "source": [
    "import pandas as pd\n",
    "data=pd.read_csv('find_s.csv')\n",
    "data"
   ]
  },
  {
   "cell_type": "code",
   "execution_count": 2,
   "id": "49074b30",
   "metadata": {},
   "outputs": [],
   "source": [
    "def finds(data):\n",
    "    h=[]\n",
    "    h0=['phi']*(data.shape[1]-1)\n",
    "    h.append(h0)\n",
    "    for i in range(len(data)):\n",
    "        if data.iloc[i][-1]=='yes':\n",
    "            h1=[]\n",
    "            if 'phi' in h[-1]:\n",
    "                for j in range(data.shape[1]-1):\n",
    "                    h1.append(data.iloc[i][j])\n",
    "                h.append(h1)\n",
    "            else:\n",
    "                for j in range(data.shape[1]-1):\n",
    "                    if h[-1][j]!=data.iloc[i][j]:\n",
    "                        h1.append('?')\n",
    "                    else:\n",
    "                        h1.append(data.iloc[i][j])\n",
    "                h.append(h1)\n",
    "    return h"
   ]
  },
  {
   "cell_type": "code",
   "execution_count": 3,
   "id": "d618495e",
   "metadata": {},
   "outputs": [],
   "source": [
    "def test():\n",
    "    a=finds(data)\n",
    "    print('enter the test data one by one without spaces:')\n",
    "    test=[input() for i in range(data.shape[1]-1)]\n",
    "    if len(a[-1])==len(test):\n",
    "        for i in range(len(a)):\n",
    "            if a[-1][i]==test[i] or a[-1][i]=='?':\n",
    "                ch=0\n",
    "            else:\n",
    "                ch=1\n",
    "                break;\n",
    "        if ch==0:\n",
    "            print('positive hypothesis')\n",
    "        else:\n",
    "            print('negative hypothesis')\n",
    "    else:\n",
    "        print('give correct testing data')"
   ]
  },
  {
   "cell_type": "code",
   "execution_count": 4,
   "id": "58a34589",
   "metadata": {},
   "outputs": [
    {
     "name": "stdout",
     "output_type": "stream",
     "text": [
      "enter the test data one by one without spaces:\n",
      "sunny\n",
      "warm\n",
      "high\n",
      "strong\n",
      "cool\n",
      "change\n",
      "positive hypothesis\n"
     ]
    }
   ],
   "source": [
    "test()"
   ]
  }
 ],
 "metadata": {
  "kernelspec": {
   "display_name": "Python 3 (ipykernel)",
   "language": "python",
   "name": "python3"
  },
  "language_info": {
   "codemirror_mode": {
    "name": "ipython",
    "version": 3
   },
   "file_extension": ".py",
   "mimetype": "text/x-python",
   "name": "python",
   "nbconvert_exporter": "python",
   "pygments_lexer": "ipython3",
   "version": "3.9.12"
  }
 },
 "nbformat": 4,
 "nbformat_minor": 5
}
